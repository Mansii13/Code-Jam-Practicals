{
 "cells": [
  {
   "cell_type": "code",
   "execution_count": 2,
   "metadata": {},
   "outputs": [
    {
     "name": "stdout",
     "output_type": "stream",
     "text": [
      "4\n",
      "0000\n",
      "Case #1: 0000\n",
      "101\n",
      "Case #2: (1)0(1)\n",
      "1100\n",
      "Case #3: (11)00\n",
      "1\n",
      "Case #4: (1)\n"
     ]
    }
   ],
   "source": [
    "def solve(t,res,prev):\n",
    "    \n",
    "    if prev != '' and t != '':\n",
    "        if int(prev) > int(t[0]):\n",
    "            for i in range(int(prev)-int(t[0])):\n",
    "                res = res + ')'\n",
    "    \n",
    "    if t == '':\n",
    "        for i in range(int(prev)):\n",
    "            res = res + ')'\n",
    "        return res\n",
    "    \n",
    "    if int(t[0]) == 0:\n",
    "        return solve(t[1:],res + t[0],t[0])\n",
    "    \n",
    "    if int(t[0]) == 1:\n",
    "        if prev != '':\n",
    "            if int(prev) == 0:\n",
    "                res = res + '(' + t[0]\n",
    "            else:\n",
    "                res = res + t[0]\n",
    "        else:\n",
    "            res = res + '(' + t[0]\n",
    "        return solve(t[1:],res,t[0])\n",
    "    \n",
    "    if int(t[0]) > 1:\n",
    "        if prev != '':\n",
    "            for i in range(int(t[0]) - int(prev)):\n",
    "                res = res + '('\n",
    "            res = res + t[0]\n",
    "        else:\n",
    "            for i in range(int(t[0])):\n",
    "                res = res + '('\n",
    "            res = res + t[0]\n",
    "        return solve(t[1:],res,t[0])\n",
    "    \n",
    "ch = int(input())\n",
    "\n",
    "for m in range(1,ch+1):\n",
    "    k = input()\n",
    "    print('Case #{}: {}'.format(m,solve(k,'','')))"
   ]
  },
  {
   "cell_type": "code",
   "execution_count": null,
   "metadata": {},
   "outputs": [],
   "source": []
  }
 ],
 "metadata": {
  "kernelspec": {
   "display_name": "Python 3",
   "language": "python",
   "name": "python3"
  },
  "language_info": {
   "codemirror_mode": {
    "name": "ipython",
    "version": 3
   },
   "file_extension": ".py",
   "mimetype": "text/x-python",
   "name": "python",
   "nbconvert_exporter": "python",
   "pygments_lexer": "ipython3",
   "version": "3.7.4"
  }
 },
 "nbformat": 4,
 "nbformat_minor": 2
}
