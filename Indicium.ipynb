{
 "cells": [
  {
   "cell_type": "code",
   "execution_count": 5,
   "metadata": {},
   "outputs": [
    {
     "name": "stdout",
     "output_type": "stream",
     "text": [
      "2\n",
      "3 6\n",
      "Case #1: POSSIBLE\n",
      "1 2 3 \n",
      "2 3 1 \n",
      "3 1 2 \n",
      "2 3\n",
      "Case #2: IMPOSSIBLE\n"
     ]
    }
   ],
   "source": [
    "import random\n",
    "\n",
    "def createMatrix(n):\n",
    "    firstRow = random.sample(range(1,n+1),n)\n",
    "    permutes = random.sample(range(1,n+1),n)\n",
    "    return list(firstRow[i:]+firstRow[:i] for i in permutes)\n",
    "\n",
    "def display(m):\n",
    "    for i in m:\n",
    "        for j in i:\n",
    "            print(j,end=\" \")\n",
    "        print()\n",
    "        \n",
    "def Add(m,N,K,x):\n",
    "    Sum=0\n",
    "    c=0\n",
    "    for i in range(N):\n",
    "        Sum = Sum +  m[i][c]\n",
    "        c=c+1\n",
    "      \n",
    "    if(Sum==K):\n",
    "        print('Case #{}: {}'.format(x,\"POSSIBLE\"))\n",
    "        display(m)\n",
    "\n",
    "    else:\n",
    "        print('Case #{}: {}'.format(x,\"IMPOSSIBLE\"))\n",
    "        \n",
    "t=int(input())\n",
    "\n",
    "for i in range(1,t+1):\n",
    "    N,K=input().split(\" \")\n",
    "    m = createMatrix(int(N))\n",
    "    Add(m,int(N),int(K),i)"
   ]
  },
  {
   "cell_type": "code",
   "execution_count": null,
   "metadata": {},
   "outputs": [],
   "source": []
  }
 ],
 "metadata": {
  "kernelspec": {
   "display_name": "Python 3",
   "language": "python",
   "name": "python3"
  },
  "language_info": {
   "codemirror_mode": {
    "name": "ipython",
    "version": 3
   },
   "file_extension": ".py",
   "mimetype": "text/x-python",
   "name": "python",
   "nbconvert_exporter": "python",
   "pygments_lexer": "ipython3",
   "version": "3.7.4"
  }
 },
 "nbformat": 4,
 "nbformat_minor": 2
}
